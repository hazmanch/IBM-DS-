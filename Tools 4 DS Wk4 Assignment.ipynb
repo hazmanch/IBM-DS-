{
 "cells": [
  {
   "cell_type": "markdown",
   "metadata": {
    "collapsed": true
   },
   "source": [
    "# My Jupyter Notebook on IBM Watson Studio"
   ]
  },
  {
   "cell_type": "markdown",
   "metadata": {},
   "source": [
    "**Nik Hazman**\n",
    "Current occupation : Engineer of a Data Analytics unit"
   ]
  },
  {
   "cell_type": "markdown",
   "metadata": {},
   "source": [
    "*I am interested in data science due to several reasons. First of all, its my workscope as my unit has been tasked to conduct data analysis on the operation and maintenance matters in the company. Second, I believe that going forward, competency in data science is increasingly important. And finally, I am simply like dealing with advanced digital solutions.*"
   ]
  },
  {
   "cell_type": "markdown",
   "metadata": {},
   "source": [
    "### Following is a simple code, both a and b are variables;if  a = 2, b = 3 then a+b will be 5"
   ]
  },
  {
   "cell_type": "code",
   "execution_count": 1,
   "metadata": {},
   "outputs": [
    {
     "data": {
      "text/plain": [
       "5"
      ]
     },
     "execution_count": 1,
     "metadata": {},
     "output_type": "execute_result"
    }
   ],
   "source": [
    "a = 2\n",
    "b = 3\n",
    "a+b"
   ]
  },
  {
   "cell_type": "markdown",
   "metadata": {},
   "source": [
    "\n",
    "This is example of bulleted list:\n",
    "   * item 1\n",
    "   * item 2\n",
    "   * item 3\n",
    "   \n",
    "This is example of numbered list\n",
    "1. Item A\n",
    "2. Item B\n",
    "3. Item C\n",
    "\n",
    "This is table \n",
    "|col 1|col2 | col3|\n",
    "|---|---|---|\n",
    "|Row1a|Row1b|Row1c|"
   ]
  },
  {
   "cell_type": "code",
   "execution_count": null,
   "metadata": {},
   "outputs": [],
   "source": []
  }
 ],
 "metadata": {
  "kernelspec": {
   "display_name": "Python 3.10",
   "language": "python",
   "name": "python3"
  },
  "language_info": {
   "codemirror_mode": {
    "name": "ipython",
    "version": 3
   },
   "file_extension": ".py",
   "mimetype": "text/x-python",
   "name": "python",
   "nbconvert_exporter": "python",
   "pygments_lexer": "ipython3",
   "version": "3.10.9"
  }
 },
 "nbformat": 4,
 "nbformat_minor": 1
}
